{
  "nbformat": 4,
  "nbformat_minor": 0,
  "metadata": {
    "kernelspec": {
      "display_name": "Python 3",
      "language": "python",
      "name": "python3"
    },
    "language_info": {
      "codemirror_mode": {
        "name": "ipython",
        "version": 3
      },
      "file_extension": ".py",
      "mimetype": "text/x-python",
      "name": "python",
      "nbconvert_exporter": "python",
      "pygments_lexer": "ipython3",
      "version": "3.7.3"
    },
    "colab": {
      "name": "emmotion_recognotion_vgg16.ipynb",
      "provenance": [],
      "collapsed_sections": [],
      "include_colab_link": true
    },
    "accelerator": "GPU"
  },
  "cells": [
    {
      "cell_type": "markdown",
      "metadata": {
        "id": "view-in-github",
        "colab_type": "text"
      },
      "source": [
        "<a href=\"https://colab.research.google.com/github/Jarjoshi273/AIR_QUALITY_INDEX/blob/master/emmotion_recognotion_vgg16.ipynb\" target=\"_parent\"><img src=\"https://colab.research.google.com/assets/colab-badge.svg\" alt=\"Open In Colab\"/></a>"
      ]
    },
    {
      "cell_type": "code",
      "metadata": {
        "id": "jx2go38Od5ig"
      },
      "source": [
        "from keras.layers import Input, Lambda, Dense, Flatten\n",
        "from keras.models import Model\n",
        "from keras.applications.vgg16 import VGG16\n",
        "#from keras.applications.resnet50 import ResNet50\n",
        "#from tensorflow.keras.applications.resnet50 import ResNet50\n",
        "from keras.applications.vgg16 import preprocess_input\n",
        "from keras.preprocessing import image\n",
        "from keras.preprocessing.image import ImageDataGenerator\n",
        "from keras.models import Sequential\n",
        "import numpy as np\n",
        "from glob import glob\n",
        "import matplotlib.pyplot as plt"
      ],
      "execution_count": 1,
      "outputs": []
    },
    {
      "cell_type": "code",
      "metadata": {
        "colab": {
          "base_uri": "https://localhost:8080/",
          "height": 163
        },
        "id": "0HR4296cUVra",
        "outputId": "f33d9302-b96f-4002-cf46-c5146947fe0e"
      },
      "source": [
        "invedia-smi"
      ],
      "execution_count": 5,
      "outputs": [
        {
          "output_type": "error",
          "ename": "NameError",
          "evalue": "ignored",
          "traceback": [
            "\u001b[0;31m---------------------------------------------------------------------------\u001b[0m",
            "\u001b[0;31mNameError\u001b[0m                                 Traceback (most recent call last)",
            "\u001b[0;32m<ipython-input-5-7ade49fc57ae>\u001b[0m in \u001b[0;36m<module>\u001b[0;34m()\u001b[0m\n\u001b[0;32m----> 1\u001b[0;31m \u001b[0minvedia\u001b[0m\u001b[0;34m-\u001b[0m\u001b[0msmi\u001b[0m\u001b[0;34m\u001b[0m\u001b[0;34m\u001b[0m\u001b[0m\n\u001b[0m",
            "\u001b[0;31mNameError\u001b[0m: name 'invedia' is not defined"
          ]
        }
      ]
    },
    {
      "cell_type": "code",
      "metadata": {
        "colab": {
          "base_uri": "https://localhost:8080/"
        },
        "id": "XP-Nj_N8eTmA",
        "outputId": "7b24d72b-cd99-4833-bd3e-5019a0a809b0"
      },
      "source": [
        "from google.colab import drive\n",
        "drive.mount('/content/drive')"
      ],
      "execution_count": 6,
      "outputs": [
        {
          "output_type": "stream",
          "text": [
            "Mounted at /content/drive\n"
          ],
          "name": "stdout"
        }
      ]
    },
    {
      "cell_type": "code",
      "metadata": {
        "id": "ko3ajyuOd5ii"
      },
      "source": [
        "#resize all images\n",
        "IMAGE_SIZE = [224, 224]"
      ],
      "execution_count": 7,
      "outputs": []
    },
    {
      "cell_type": "code",
      "metadata": {
        "id": "XpVNEWPVoLMz"
      },
      "source": [
        "#Preprocessing of data\n",
        "from keras.preprocessing.image import ImageDataGenerator\n",
        "\n",
        "train_datagen = ImageDataGenerator(rescale = 1./255,\n",
        "                                   shear_range = 0.2,\n",
        "                                   zoom_range = 0.2,\n",
        "                                   horizontal_flip = True)\n",
        "test_datagen = ImageDataGenerator(rescale=1./255)\n"
      ],
      "execution_count": 8,
      "outputs": []
    },
    {
      "cell_type": "code",
      "metadata": {
        "id": "IMsZzmmTd5ii"
      },
      "source": [
        "train_path = '/content/drive/MyDrive/DL_dataset/DL_dataset/eINTERFACE_2021_Image/train'"
      ],
      "execution_count": 9,
      "outputs": []
    },
    {
      "cell_type": "code",
      "metadata": {
        "id": "bu4_w07md5ij"
      },
      "source": [
        "valid_path = '/content/drive/MyDrive/DL_dataset/DL_dataset/eINTERFACE_2021_Image/test'"
      ],
      "execution_count": 10,
      "outputs": []
    },
    {
      "cell_type": "code",
      "metadata": {
        "id": "bk2Bn0Qx5xti",
        "colab": {
          "base_uri": "https://localhost:8080/"
        },
        "outputId": "061a5e17-9b6f-4a47-dd25-ec4b2639873a"
      },
      "source": [
        "vgg=VGG16( include_top=False, weights=\"imagenet\",  input_shape=(224, 224,3))\n",
        "    \n"
      ],
      "execution_count": 11,
      "outputs": [
        {
          "output_type": "stream",
          "text": [
            "Downloading data from https://storage.googleapis.com/tensorflow/keras-applications/vgg16/vgg16_weights_tf_dim_ordering_tf_kernels_notop.h5\n",
            "58892288/58889256 [==============================] - 0s 0us/step\n",
            "58900480/58889256 [==============================] - 0s 0us/step\n"
          ],
          "name": "stdout"
        }
      ]
    },
    {
      "cell_type": "code",
      "metadata": {
        "id": "h0OWT0o07G4v"
      },
      "source": [
        "folders = glob('/content/drive/MyDrive/DL_dataset/DL_dataset/eINTERFACE_2021_Image/train/*')"
      ],
      "execution_count": 12,
      "outputs": []
    },
    {
      "cell_type": "code",
      "metadata": {
        "colab": {
          "base_uri": "https://localhost:8080/"
        },
        "id": "osxlC3q_fKzh",
        "outputId": "21f86b66-f0c2-4173-d7bb-4579f578dcc7"
      },
      "source": [
        "folders"
      ],
      "execution_count": null,
      "outputs": [
        {
          "output_type": "execute_result",
          "data": {
            "text/plain": [
              "['/content/drive/MyDrive/DL_dataset/DL_dataset/eINTERFACE_2021_Image/train/Happiness',\n",
              " '/content/drive/MyDrive/DL_dataset/DL_dataset/eINTERFACE_2021_Image/train/Fear',\n",
              " '/content/drive/MyDrive/DL_dataset/DL_dataset/eINTERFACE_2021_Image/train/Disgust',\n",
              " '/content/drive/MyDrive/DL_dataset/DL_dataset/eINTERFACE_2021_Image/train/Anger',\n",
              " '/content/drive/MyDrive/DL_dataset/DL_dataset/eINTERFACE_2021_Image/train/Sadness',\n",
              " '/content/drive/MyDrive/DL_dataset/DL_dataset/eINTERFACE_2021_Image/train/Surprise']"
            ]
          },
          "metadata": {
            "tags": []
          },
          "execution_count": 10
        }
      ]
    },
    {
      "cell_type": "code",
      "metadata": {
        "id": "YYLF2p3Cd5in"
      },
      "source": [
        "# add preprocessing layer to the front of VGG\n",
        "vgg = VGG16(input_shape=IMAGE_SIZE + [3], weights='imagenet', include_top=False)"
      ],
      "execution_count": 13,
      "outputs": []
    },
    {
      "cell_type": "code",
      "metadata": {
        "id": "aips5x-Kd5ip"
      },
      "source": [
        "# don't train existing weights\n",
        "for layer in vgg.layers:\n",
        "    layer.trainable = False\n",
        "  \n"
      ],
      "execution_count": 14,
      "outputs": []
    },
    {
      "cell_type": "code",
      "metadata": {
        "id": "wMrtFMSQ5pvo"
      },
      "source": [
        "x = Flatten()(vgg.output)"
      ],
      "execution_count": 15,
      "outputs": []
    },
    {
      "cell_type": "code",
      "metadata": {
        "id": "PBFKjDgl7b-d"
      },
      "source": [
        "prediction = Dense(len(folders), activation='softmax')(x)"
      ],
      "execution_count": 16,
      "outputs": []
    },
    {
      "cell_type": "code",
      "metadata": {
        "id": "aUWa5UQd7jLV",
        "colab": {
          "base_uri": "https://localhost:8080/"
        },
        "outputId": "df964aff-4646-4542-a1bb-999f6dfa9d84"
      },
      "source": [
        "model = Model(inputs=vgg.input, outputs=prediction)\n",
        "model.summary()"
      ],
      "execution_count": 17,
      "outputs": [
        {
          "output_type": "stream",
          "text": [
            "Model: \"model\"\n",
            "_________________________________________________________________\n",
            "Layer (type)                 Output Shape              Param #   \n",
            "=================================================================\n",
            "input_2 (InputLayer)         [(None, 224, 224, 3)]     0         \n",
            "_________________________________________________________________\n",
            "block1_conv1 (Conv2D)        (None, 224, 224, 64)      1792      \n",
            "_________________________________________________________________\n",
            "block1_conv2 (Conv2D)        (None, 224, 224, 64)      36928     \n",
            "_________________________________________________________________\n",
            "block1_pool (MaxPooling2D)   (None, 112, 112, 64)      0         \n",
            "_________________________________________________________________\n",
            "block2_conv1 (Conv2D)        (None, 112, 112, 128)     73856     \n",
            "_________________________________________________________________\n",
            "block2_conv2 (Conv2D)        (None, 112, 112, 128)     147584    \n",
            "_________________________________________________________________\n",
            "block2_pool (MaxPooling2D)   (None, 56, 56, 128)       0         \n",
            "_________________________________________________________________\n",
            "block3_conv1 (Conv2D)        (None, 56, 56, 256)       295168    \n",
            "_________________________________________________________________\n",
            "block3_conv2 (Conv2D)        (None, 56, 56, 256)       590080    \n",
            "_________________________________________________________________\n",
            "block3_conv3 (Conv2D)        (None, 56, 56, 256)       590080    \n",
            "_________________________________________________________________\n",
            "block3_pool (MaxPooling2D)   (None, 28, 28, 256)       0         \n",
            "_________________________________________________________________\n",
            "block4_conv1 (Conv2D)        (None, 28, 28, 512)       1180160   \n",
            "_________________________________________________________________\n",
            "block4_conv2 (Conv2D)        (None, 28, 28, 512)       2359808   \n",
            "_________________________________________________________________\n",
            "block4_conv3 (Conv2D)        (None, 28, 28, 512)       2359808   \n",
            "_________________________________________________________________\n",
            "block4_pool (MaxPooling2D)   (None, 14, 14, 512)       0         \n",
            "_________________________________________________________________\n",
            "block5_conv1 (Conv2D)        (None, 14, 14, 512)       2359808   \n",
            "_________________________________________________________________\n",
            "block5_conv2 (Conv2D)        (None, 14, 14, 512)       2359808   \n",
            "_________________________________________________________________\n",
            "block5_conv3 (Conv2D)        (None, 14, 14, 512)       2359808   \n",
            "_________________________________________________________________\n",
            "block5_pool (MaxPooling2D)   (None, 7, 7, 512)         0         \n",
            "_________________________________________________________________\n",
            "flatten (Flatten)            (None, 25088)             0         \n",
            "_________________________________________________________________\n",
            "dense (Dense)                (None, 6)                 150534    \n",
            "=================================================================\n",
            "Total params: 14,865,222\n",
            "Trainable params: 150,534\n",
            "Non-trainable params: 14,714,688\n",
            "_________________________________________________________________\n"
          ],
          "name": "stdout"
        }
      ]
    },
    {
      "cell_type": "code",
      "metadata": {
        "id": "Oh0JLIJp7qFB"
      },
      "source": [
        ""
      ],
      "execution_count": null,
      "outputs": []
    },
    {
      "cell_type": "code",
      "metadata": {
        "id": "t9D7Zjotd5iv"
      },
      "source": [
        "# tell the model what cost and optimization method to use\n",
        "model.compile(\n",
        "  loss='categorical_crossentropy',\n",
        "  optimizer='adam',\n",
        "  metrics=['accuracy']\n",
        ")"
      ],
      "execution_count": 18,
      "outputs": []
    },
    {
      "cell_type": "code",
      "metadata": {
        "id": "w6AiZNH1d5iw"
      },
      "source": [
        "from keras.preprocessing.image import ImageDataGenerator\n",
        "\n",
        "train_datagen = ImageDataGenerator(rescale = 1./255,\n",
        "                                   shear_range = 0.2,\n",
        "                                   zoom_range = 0.2,\n",
        "                                   horizontal_flip = True)\n"
      ],
      "execution_count": 19,
      "outputs": []
    },
    {
      "cell_type": "code",
      "metadata": {
        "id": "v_Ghx0MCd5iw"
      },
      "source": [
        "test_datagen = ImageDataGenerator(rescale = 1./255)\n"
      ],
      "execution_count": 20,
      "outputs": []
    },
    {
      "cell_type": "code",
      "metadata": {
        "id": "Ig5D7mE3d5ix",
        "colab": {
          "base_uri": "https://localhost:8080/"
        },
        "outputId": "15020962-3cc8-4567-c273-d85daf318981"
      },
      "source": [
        "training_set = train_datagen.flow_from_directory('/content/drive/MyDrive/DL_dataset/DL_dataset/eINTERFACE_2021_Image/train',\n",
        "                                                 target_size = (224, 224),\n",
        "                                                 batch_size = 32,\n",
        "                                                 class_mode = 'categorical')\n"
      ],
      "execution_count": 21,
      "outputs": [
        {
          "output_type": "stream",
          "text": [
            "Found 11478 images belonging to 6 classes.\n"
          ],
          "name": "stdout"
        }
      ]
    },
    {
      "cell_type": "code",
      "metadata": {
        "id": "qZ-lvrQbd5ix",
        "colab": {
          "base_uri": "https://localhost:8080/"
        },
        "outputId": "8bf2e440-0f4c-4a6c-a883-3e339a889d75"
      },
      "source": [
        "test_set = test_datagen.flow_from_directory('/content/drive/MyDrive/DL_dataset/DL_dataset/eINTERFACE_2021_Image/test',\n",
        "                                            target_size = (224, 224),\n",
        "                                            batch_size = 32,\n",
        "                                            class_mode = 'categorical')\n"
      ],
      "execution_count": 22,
      "outputs": [
        {
          "output_type": "stream",
          "text": [
            "Found 1438 images belonging to 6 classes.\n"
          ],
          "name": "stdout"
        }
      ]
    },
    {
      "cell_type": "code",
      "metadata": {
        "colab": {
          "base_uri": "https://localhost:8080/"
        },
        "id": "M0QRvcp-d5iy",
        "outputId": "df1ea5c2-c415-4ea7-e156-58ff9ccd2fae"
      },
      "source": [
        "# fit the model\n",
        "r = model.fit_generator(\n",
        "  training_set,\n",
        "  validation_data=test_set,\n",
        "  epochs=25,\n",
        "  steps_per_epoch=len(training_set),\n",
        "  validation_steps=len(test_set)\n",
        ")"
      ],
      "execution_count": 23,
      "outputs": [
        {
          "output_type": "stream",
          "text": [
            "/usr/local/lib/python3.7/dist-packages/keras/engine/training.py:1915: UserWarning: `Model.fit_generator` is deprecated and will be removed in a future version. Please use `Model.fit`, which supports generators.\n",
            "  warnings.warn('`Model.fit_generator` is deprecated and '\n"
          ],
          "name": "stderr"
        },
        {
          "output_type": "stream",
          "text": [
            "Epoch 1/25\n",
            "359/359 [==============================] - 3674s 10s/step - loss: 1.8404 - accuracy: 0.3007 - val_loss: 1.4498 - val_accuracy: 0.4291\n",
            "Epoch 2/25\n",
            "359/359 [==============================] - 155s 433ms/step - loss: 1.3854 - accuracy: 0.4707 - val_loss: 1.1432 - val_accuracy: 0.5793\n",
            "Epoch 3/25\n",
            "359/359 [==============================] - 156s 434ms/step - loss: 1.2446 - accuracy: 0.5214 - val_loss: 1.1718 - val_accuracy: 0.5334\n",
            "Epoch 4/25\n",
            "359/359 [==============================] - 155s 433ms/step - loss: 1.1333 - accuracy: 0.5618 - val_loss: 1.0650 - val_accuracy: 0.5800\n",
            "Epoch 5/25\n",
            "359/359 [==============================] - 155s 433ms/step - loss: 1.0693 - accuracy: 0.5964 - val_loss: 1.1491 - val_accuracy: 0.5647\n",
            "Epoch 6/25\n",
            "359/359 [==============================] - 155s 433ms/step - loss: 1.0455 - accuracy: 0.6056 - val_loss: 1.0585 - val_accuracy: 0.5967\n",
            "Epoch 7/25\n",
            "359/359 [==============================] - 155s 432ms/step - loss: 0.9841 - accuracy: 0.6238 - val_loss: 0.9433 - val_accuracy: 0.6433\n",
            "Epoch 8/25\n",
            "359/359 [==============================] - 157s 438ms/step - loss: 0.9621 - accuracy: 0.6364 - val_loss: 1.0034 - val_accuracy: 0.6252\n",
            "Epoch 9/25\n",
            "359/359 [==============================] - 156s 435ms/step - loss: 0.9369 - accuracy: 0.6503 - val_loss: 1.0415 - val_accuracy: 0.6043\n",
            "Epoch 10/25\n",
            "359/359 [==============================] - 155s 432ms/step - loss: 0.9082 - accuracy: 0.6578 - val_loss: 0.8747 - val_accuracy: 0.6676\n",
            "Epoch 11/25\n",
            "359/359 [==============================] - 155s 432ms/step - loss: 0.8889 - accuracy: 0.6642 - val_loss: 1.0908 - val_accuracy: 0.5723\n",
            "Epoch 12/25\n",
            "359/359 [==============================] - 155s 432ms/step - loss: 0.8511 - accuracy: 0.6858 - val_loss: 0.9357 - val_accuracy: 0.6530\n",
            "Epoch 13/25\n",
            "359/359 [==============================] - 155s 431ms/step - loss: 0.8779 - accuracy: 0.6736 - val_loss: 0.9215 - val_accuracy: 0.6453\n",
            "Epoch 14/25\n",
            "359/359 [==============================] - 155s 432ms/step - loss: 0.8845 - accuracy: 0.6735 - val_loss: 0.9183 - val_accuracy: 0.6551\n",
            "Epoch 15/25\n",
            "359/359 [==============================] - 155s 432ms/step - loss: 0.8062 - accuracy: 0.6972 - val_loss: 0.9977 - val_accuracy: 0.6127\n",
            "Epoch 16/25\n",
            "359/359 [==============================] - 155s 432ms/step - loss: 0.8400 - accuracy: 0.6823 - val_loss: 0.8980 - val_accuracy: 0.6641\n",
            "Epoch 17/25\n",
            "359/359 [==============================] - 155s 431ms/step - loss: 0.7938 - accuracy: 0.6994 - val_loss: 0.8276 - val_accuracy: 0.6905\n",
            "Epoch 18/25\n",
            "359/359 [==============================] - 155s 430ms/step - loss: 0.7793 - accuracy: 0.7140 - val_loss: 0.9828 - val_accuracy: 0.6293\n",
            "Epoch 19/25\n",
            "359/359 [==============================] - 154s 429ms/step - loss: 0.7832 - accuracy: 0.7027 - val_loss: 1.0895 - val_accuracy: 0.5828\n",
            "Epoch 20/25\n",
            "359/359 [==============================] - 155s 432ms/step - loss: 0.7394 - accuracy: 0.7225 - val_loss: 0.8225 - val_accuracy: 0.6933\n",
            "Epoch 21/25\n",
            "359/359 [==============================] - 155s 431ms/step - loss: 0.7725 - accuracy: 0.7114 - val_loss: 0.9185 - val_accuracy: 0.6579\n",
            "Epoch 22/25\n",
            "359/359 [==============================] - 155s 432ms/step - loss: 0.7399 - accuracy: 0.7218 - val_loss: 0.8141 - val_accuracy: 0.6898\n",
            "Epoch 23/25\n",
            "359/359 [==============================] - 155s 433ms/step - loss: 0.7392 - accuracy: 0.7331 - val_loss: 1.0230 - val_accuracy: 0.6377\n",
            "Epoch 24/25\n",
            "359/359 [==============================] - 156s 435ms/step - loss: 0.7349 - accuracy: 0.7271 - val_loss: 0.8337 - val_accuracy: 0.6773\n",
            "Epoch 25/25\n",
            "359/359 [==============================] - 155s 432ms/step - loss: 0.7307 - accuracy: 0.7289 - val_loss: 0.9626 - val_accuracy: 0.6453\n"
          ],
          "name": "stdout"
        }
      ]
    },
    {
      "cell_type": "code",
      "metadata": {
        "id": "btYGeS-Vd5i0",
        "colab": {
          "base_uri": "https://localhost:8080/"
        },
        "outputId": "a7c445eb-3d48-4ddc-8ad4-0c5bded412cb"
      },
      "source": [
        "!nvidia-smi"
      ],
      "execution_count": 24,
      "outputs": [
        {
          "output_type": "stream",
          "text": [
            "Fri Jun  4 11:29:59 2021       \n",
            "+-----------------------------------------------------------------------------+\n",
            "| NVIDIA-SMI 465.27       Driver Version: 460.32.03    CUDA Version: 11.2     |\n",
            "|-------------------------------+----------------------+----------------------+\n",
            "| GPU  Name        Persistence-M| Bus-Id        Disp.A | Volatile Uncorr. ECC |\n",
            "| Fan  Temp  Perf  Pwr:Usage/Cap|         Memory-Usage | GPU-Util  Compute M. |\n",
            "|                               |                      |               MIG M. |\n",
            "|===============================+======================+======================|\n",
            "|   0  Tesla T4            Off  | 00000000:00:04.0 Off |                    0 |\n",
            "| N/A   50C    P0    28W /  70W |   9136MiB / 15109MiB |      0%      Default |\n",
            "|                               |                      |                  N/A |\n",
            "+-------------------------------+----------------------+----------------------+\n",
            "                                                                               \n",
            "+-----------------------------------------------------------------------------+\n",
            "| Processes:                                                                  |\n",
            "|  GPU   GI   CI        PID   Type   Process name                  GPU Memory |\n",
            "|        ID   ID                                                   Usage      |\n",
            "|=============================================================================|\n",
            "+-----------------------------------------------------------------------------+\n"
          ],
          "name": "stdout"
        }
      ]
    },
    {
      "cell_type": "code",
      "metadata": {
        "id": "Cak1kxYLd5iz",
        "colab": {
          "base_uri": "https://localhost:8080/",
          "height": 496
        },
        "outputId": "91b666d6-59df-4542-9b48-4d50be48e969"
      },
      "source": [
        "# loss\n",
        "plt.plot(r.history['loss'], label='train loss')\n",
        "plt.plot(r.history['val_loss'], label='val loss')\n",
        "plt.legend()\n",
        "plt.show()\n",
        "plt.savefig('LossVal_loss')\n",
        "\n",
        "# accuracies\n",
        "plt.plot(r.history['acc'], label='train acc')\n",
        "plt.plot(r.history['val_acc'], label='val acc')\n",
        "plt.legend()\n",
        "plt.show()\n",
        "plt.savefig('AccVal_acc')\n",
        "\n",
        "\n"
      ],
      "execution_count": 25,
      "outputs": [
        {
          "output_type": "display_data",
          "data": {
            "image/png": "[encoded data removed]",
            "text/plain": [
              "<Figure size 432x288 with 1 Axes>"
            ]
          },
          "metadata": {
            "tags": [],
            "needs_background": "light"
          }
        },
        {
          "output_type": "error",
          "ename": "KeyError",
          "evalue": "ignored",
          "traceback": [
            "\u001b[0;31m---------------------------------------------------------------------------\u001b[0m",
            "\u001b[0;31mKeyError\u001b[0m                                  Traceback (most recent call last)",
            "\u001b[0;32m<ipython-input-25-671169427bec>\u001b[0m in \u001b[0;36m<module>\u001b[0;34m()\u001b[0m\n\u001b[1;32m      7\u001b[0m \u001b[0;34m\u001b[0m\u001b[0m\n\u001b[1;32m      8\u001b[0m \u001b[0;31m# accuracies\u001b[0m\u001b[0;34m\u001b[0m\u001b[0;34m\u001b[0m\u001b[0;34m\u001b[0m\u001b[0m\n\u001b[0;32m----> 9\u001b[0;31m \u001b[0mplt\u001b[0m\u001b[0;34m.\u001b[0m\u001b[0mplot\u001b[0m\u001b[0;34m(\u001b[0m\u001b[0mr\u001b[0m\u001b[0;34m.\u001b[0m\u001b[0mhistory\u001b[0m\u001b[0;34m[\u001b[0m\u001b[0;34m'acc'\u001b[0m\u001b[0;34m]\u001b[0m\u001b[0;34m,\u001b[0m \u001b[0mlabel\u001b[0m\u001b[0;34m=\u001b[0m\u001b[0;34m'train acc'\u001b[0m\u001b[0;34m)\u001b[0m\u001b[0;34m\u001b[0m\u001b[0;34m\u001b[0m\u001b[0m\n\u001b[0m\u001b[1;32m     10\u001b[0m \u001b[0mplt\u001b[0m\u001b[0;34m.\u001b[0m\u001b[0mplot\u001b[0m\u001b[0;34m(\u001b[0m\u001b[0mr\u001b[0m\u001b[0;34m.\u001b[0m\u001b[0mhistory\u001b[0m\u001b[0;34m[\u001b[0m\u001b[0;34m'val_acc'\u001b[0m\u001b[0;34m]\u001b[0m\u001b[0;34m,\u001b[0m \u001b[0mlabel\u001b[0m\u001b[0;34m=\u001b[0m\u001b[0;34m'val acc'\u001b[0m\u001b[0;34m)\u001b[0m\u001b[0;34m\u001b[0m\u001b[0;34m\u001b[0m\u001b[0m\n\u001b[1;32m     11\u001b[0m \u001b[0mplt\u001b[0m\u001b[0;34m.\u001b[0m\u001b[0mlegend\u001b[0m\u001b[0;34m(\u001b[0m\u001b[0;34m)\u001b[0m\u001b[0;34m\u001b[0m\u001b[0;34m\u001b[0m\u001b[0m\n",
            "\u001b[0;31mKeyError\u001b[0m: 'acc'"
          ]
        },
        {
          "output_type": "display_data",
          "data": {
            "text/plain": [
              "<Figure size 432x288 with 0 Axes>"
            ]
          },
          "metadata": {
            "tags": []
          }
        }
      ]
    },
    {
      "cell_type": "code",
      "metadata": {
        "id": "skL-q2kiBsCB"
      },
      "source": [
        "import tensorflow as tf\n",
        "\n",
        "\n",
        "\n",
        "model.save('/content/drive/MyDrive/my_model_emmotion.h5')\n",
        "\n",
        "\n"
      ],
      "execution_count": 30,
      "outputs": []
    },
    {
      "cell_type": "code",
      "metadata": {
        "id": "Uv16-2nhEI1W"
      },
      "source": [
        "import tensorflow as tf\n",
        "from keras.models import load_model\n",
        "#new_model = models.load_model('my_model.h5')\n",
        "model = load_model('/content/drive/MyDrive/my_model_emmotion.h5')"
      ],
      "execution_count": 31,
      "outputs": []
    },
    {
      "cell_type": "code",
      "metadata": {
        "id": "6eM5mg3XxRiv",
        "colab": {
          "base_uri": "https://localhost:8080/",
          "height": 17
        },
        "outputId": "bb3e42f6-2d6d-469f-e14c-ee0fa060f552"
      },
      "source": [
        "from google.colab import files\n",
        "files.download(\"/content/drive/MyDrive/my_model_emmotion.h5\")"
      ],
      "execution_count": 29,
      "outputs": [
        {
          "output_type": "display_data",
          "data": {
            "application/javascript": [
              "\n",
              "    async function download(id, filename, size) {\n",
              "      if (!google.colab.kernel.accessAllowed) {\n",
              "        return;\n",
              "      }\n",
              "      const div = document.createElement('div');\n",
              "      const label = document.createElement('label');\n",
              "      label.textContent = `Downloading \"${filename}\": `;\n",
              "      div.appendChild(label);\n",
              "      const progress = document.createElement('progress');\n",
              "      progress.max = size;\n",
              "      div.appendChild(progress);\n",
              "      document.body.appendChild(div);\n",
              "\n",
              "      const buffers = [];\n",
              "      let downloaded = 0;\n",
              "\n",
              "      const channel = await google.colab.kernel.comms.open(id);\n",
              "      // Send a message to notify the kernel that we're ready.\n",
              "      channel.send({})\n",
              "\n",
              "      for await (const message of channel.messages) {\n",
              "        // Send a message to notify the kernel that we're ready.\n",
              "        channel.send({})\n",
              "        if (message.buffers) {\n",
              "          for (const buffer of message.buffers) {\n",
              "            buffers.push(buffer);\n",
              "            downloaded += buffer.byteLength;\n",
              "            progress.value = downloaded;\n",
              "          }\n",
              "        }\n",
              "      }\n",
              "      const blob = new Blob(buffers, {type: 'application/binary'});\n",
              "      const a = document.createElement('a');\n",
              "      a.href = window.URL.createObjectURL(blob);\n",
              "      a.download = filename;\n",
              "      div.appendChild(a);\n",
              "      a.click();\n",
              "      div.remove();\n",
              "    }\n",
              "  "
            ],
            "text/plain": [
              "<IPython.core.display.Javascript object>"
            ]
          },
          "metadata": {
            "tags": []
          }
        },
        {
          "output_type": "display_data",
          "data": {
            "application/javascript": [
              "download(\"download_5b6cde5e-a8c7-4061-84fb-62c15a7ccd1b\", \"my_model_emmotion.h5\", 60743536)"
            ],
            "text/plain": [
              "<IPython.core.display.Javascript object>"
            ]
          },
          "metadata": {
            "tags": []
          }
        }
      ]
    },
    {
      "cell_type": "code",
      "metadata": {
        "id": "-6v15lQKww1v",
        "colab": {
          "base_uri": "https://localhost:8080/"
        },
        "outputId": "56864a1f-7d9a-4621-cfec-6ed1960aa7e7"
      },
      "source": [
        "training_set.class_indices"
      ],
      "execution_count": 32,
      "outputs": [
        {
          "output_type": "execute_result",
          "data": {
            "text/plain": [
              "{'Anger': 0,\n",
              " 'Disgust': 1,\n",
              " 'Fear': 2,\n",
              " 'Happiness': 3,\n",
              " 'Sadness': 4,\n",
              " 'Surprise': 5}"
            ]
          },
          "metadata": {
            "tags": []
          },
          "execution_count": 32
        }
      ]
    },
    {
      "cell_type": "code",
      "metadata": {
        "id": "mJ91_B1Wsm4E",
        "colab": {
          "base_uri": "https://localhost:8080/"
        },
        "outputId": "9f1fb4bc-3d0e-49ec-aae0-30537a4b89e5"
      },
      "source": [
        "from keras.models import load_model\n",
        "import numpy as np\n",
        "from keras.preprocessing import image\n",
        "\n",
        "test_image = image.load_img('/content/drive/MyDrive/DL_dataset/DL_dataset/eINTERFACE_2021_Image/test/Happiness/myvideo_frames0_jpg.rf.46e286792b4b5d7ce6dd0a28bd68cdb6.jpg',\n",
        "                              target_size=(224, 224))\n",
        "test_image = image.img_to_array(test_image)\n",
        "# print(test_image)\n",
        "test_image = np.expand_dims(test_image, axis=0)\n",
        "model = load_model('/content/drive/MyDrive/my_model_emmotion.h5')\n",
        "result = model.predict(test_image)\n",
        "# training_set.class_indices\n",
        "if result[0][1] == 1:\n",
        "    prediction = 'Disgust'\n",
        "\n",
        "    print(prediction)\n",
        "    #return (devansh)\n",
        "\n",
        "elif result[0][0] == 1:\n",
        "\n",
        "    prediction = 'Anger'\n",
        "    print(prediction)\n",
        "    #return(prediction)\n",
        "elif result[0][2] == 1:\n",
        "\n",
        "    prediction = 'Fear'\n",
        "    print(prediction)\n",
        "\n",
        "elif result[0][3] == 1:\n",
        "\n",
        "    prediction = 'Happiness'\n",
        "    print(prediction)\n",
        "\n",
        "elif result[0][4] == 1:\n",
        "\n",
        "    prediction = 'Sadness'\n",
        "    print(prediction)\n",
        "\n",
        "\n",
        "else:\n",
        "\n",
        "    prediction = 'Surprise'\n",
        "    #return(prediction)\n",
        "    print(prediction)\n",
        "\n",
        "\n"
      ],
      "execution_count": 33,
      "outputs": [
        {
          "output_type": "stream",
          "text": [
            "Happiness\n"
          ],
          "name": "stdout"
        }
      ]
    }
  ]
}